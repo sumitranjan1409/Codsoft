{
 "cells": [
  {
   "cell_type": "markdown",
   "id": "ef7dd687",
   "metadata": {},
   "source": [
    "# Load some helpful libraries\n"
   ]
  },
  {
   "cell_type": "markdown",
   "id": "708296c6",
   "metadata": {},
   "source": [
    "# Import Libraries"
   ]
  },
  {
   "cell_type": "code",
   "execution_count": 46,
   "id": "910104ff",
   "metadata": {},
   "outputs": [],
   "source": [
    "import numpy as np\n",
    "import pandas as pd\n",
    "\n",
    "import seaborn as sns\n",
    "import matplotlib.pyplot as plt\n",
    "%matplotlib inline\n",
    "\n",
    "from sklearn.model_selection import train_test_split\n",
    "from sklearn.linear_model import LogisticRegression\n",
    "from sklearn.svm import SVC, LinearSVC\n",
    "from sklearn.ensemble import RandomForestClassifier\n",
    "from sklearn.neighbors import KNeighborsClassifier\n",
    "from sklearn.naive_bayes import GaussianNB\n",
    "from sklearn.linear_model import Perceptron\n",
    "from sklearn.linear_model import SGDClassifier\n",
    "from sklearn.tree import DecisionTreeClassifier"
   ]
  },
  {
   "cell_type": "markdown",
   "id": "428e1311",
   "metadata": {},
   "source": [
    "# Read the dataset"
   ]
  },
  {
   "cell_type": "code",
   "execution_count": 47,
   "id": "28280624",
   "metadata": {},
   "outputs": [
    {
     "name": "stdout",
     "output_type": "stream",
     "text": [
      "   1                    Toy Story (1995)   Animation|Children's|Comedy\n",
      "0  2                      Jumanji (1995)  Adventure|Children's|Fantasy\n",
      "1  3             Grumpier Old Men (1995)                Comedy|Romance\n",
      "2  4            Waiting to Exhale (1995)                  Comedy|Drama\n",
      "3  5  Father of the Bride Part II (1995)                        Comedy\n",
      "4  6                         Heat (1995)         Action|Crime|Thriller\n"
     ]
    },
    {
     "name": "stderr",
     "output_type": "stream",
     "text": [
      "C:\\Users\\10\\AppData\\Local\\Temp\\ipykernel_916\\351470960.py:3: ParserWarning:\n",
      "\n",
      "Falling back to the 'python' engine because the 'c' engine does not support regex separators (separators > 1 char and different from '\\s+' are interpreted as regex); you can avoid this warning by specifying engine='python'.\n",
      "\n"
     ]
    }
   ],
   "source": [
    "import pandas as pd\n",
    "\n",
    "movies = pd.read_csv(\"C://Users//10//Desktop//movies.dat\", delimiter='::', encoding='latin-1')\n",
    "print(movies.head())\n"
   ]
  },
  {
   "cell_type": "code",
   "execution_count": 48,
   "id": "9c713e22",
   "metadata": {},
   "outputs": [
    {
     "name": "stdout",
     "output_type": "stream",
     "text": [
      "         1            Toy Story (1995) Animation|Children's|Comedy\n",
      "3877  3948     Meet the Parents (2000)                      Comedy\n",
      "3878  3949  Requiem for a Dream (2000)                       Drama\n",
      "3879  3950            Tigerland (2000)                       Drama\n",
      "3880  3951     Two Family House (2000)                       Drama\n",
      "3881  3952       Contender, The (2000)              Drama|Thriller\n"
     ]
    }
   ],
   "source": [
    "print(movies.tail())"
   ]
  },
  {
   "cell_type": "code",
   "execution_count": 50,
   "id": "5afb8847",
   "metadata": {},
   "outputs": [
    {
     "name": "stdout",
     "output_type": "stream",
     "text": [
      "   MovieIDs                           MovieName                      Category\n",
      "0         2                      Jumanji (1995)  Adventure|Children's|Fantasy\n",
      "1         3             Grumpier Old Men (1995)                Comedy|Romance\n",
      "2         4            Waiting to Exhale (1995)                  Comedy|Drama\n",
      "3         5  Father of the Bride Part II (1995)                        Comedy\n",
      "4         6                         Heat (1995)         Action|Crime|Thriller\n"
     ]
    }
   ],
   "source": [
    "# add columns names\n",
    "movies.columns = ['MovieIDs','MovieName','Category']\n",
    "movies.dropna(inplace = True)\n",
    "print(movies.head())"
   ]
  },
  {
   "cell_type": "markdown",
   "id": "68d7d100",
   "metadata": {},
   "source": [
    "# Lets import ratings dataset"
   ]
  },
  {
   "cell_type": "code",
   "execution_count": 51,
   "id": "04b485e4",
   "metadata": {},
   "outputs": [
    {
     "name": "stderr",
     "output_type": "stream",
     "text": [
      "C:\\Users\\10\\AppData\\Local\\Temp\\ipykernel_916\\597210866.py:1: ParserWarning:\n",
      "\n",
      "Falling back to the 'python' engine because the 'c' engine does not support regex separators (separators > 1 char and different from '\\s+' are interpreted as regex); you can avoid this warning by specifying engine='python'.\n",
      "\n"
     ]
    }
   ],
   "source": [
    "ratings = pd.read_csv(\"C://Users//10//Desktop//ratings.dat\", delimiter='::')"
   ]
  },
  {
   "cell_type": "code",
   "execution_count": 52,
   "id": "3cad11eb",
   "metadata": {},
   "outputs": [
    {
     "name": "stdout",
     "output_type": "stream",
     "text": [
      "   1  1193  5  978300760\n",
      "0  1   661  3  978302109\n",
      "1  1   914  3  978301968\n",
      "2  1  3408  4  978300275\n",
      "3  1  2355  5  978824291\n",
      "4  1  1197  3  978302268\n"
     ]
    }
   ],
   "source": [
    "print(ratings.head())"
   ]
  },
  {
   "cell_type": "code",
   "execution_count": 53,
   "id": "46a9cf57",
   "metadata": {},
   "outputs": [],
   "source": [
    "# let's define columns names\n",
    "ratings.columns = ['ID','MovieID','Ratings','TimeStamp']"
   ]
  },
  {
   "cell_type": "code",
   "execution_count": 56,
   "id": "41aab1f7",
   "metadata": {},
   "outputs": [
    {
     "name": "stdout",
     "output_type": "stream",
     "text": [
      "   ID  MovieID  Ratings  TimeStamp\n",
      "0   1      661        3  978302109\n",
      "1   1      914        3  978301968\n",
      "2   1     3408        4  978300275\n",
      "3   1     2355        5  978824291\n",
      "4   1     1197        3  978302268\n"
     ]
    }
   ],
   "source": [
    "ratings.dropna(inplace=True)\n",
    "print(ratings.head())"
   ]
  },
  {
   "cell_type": "markdown",
   "id": "024a6116",
   "metadata": {},
   "source": [
    "# Let's import user dataset"
   ]
  },
  {
   "cell_type": "code",
   "execution_count": 59,
   "id": "e848cbab",
   "metadata": {},
   "outputs": [
    {
     "name": "stderr",
     "output_type": "stream",
     "text": [
      "C:\\Users\\10\\AppData\\Local\\Temp\\ipykernel_916\\3898853212.py:1: ParserWarning:\n",
      "\n",
      "Falling back to the 'python' engine because the 'c' engine does not support regex separators (separators > 1 char and different from '\\s+' are interpreted as regex); you can avoid this warning by specifying engine='python'.\n",
      "\n"
     ]
    }
   ],
   "source": [
    "user = pd.read_csv(\"C://Users//10//Desktop//users.dat\", delimiter='::')"
   ]
  },
  {
   "cell_type": "code",
   "execution_count": 60,
   "id": "10db6115",
   "metadata": {},
   "outputs": [],
   "source": [
    "user.columns =['UserID','Gender','Age','Occupation','Zip-code']"
   ]
  },
  {
   "cell_type": "code",
   "execution_count": 61,
   "id": "bdd4fada",
   "metadata": {},
   "outputs": [
    {
     "data": {
      "text/html": [
       "<div>\n",
       "<style scoped>\n",
       "    .dataframe tbody tr th:only-of-type {\n",
       "        vertical-align: middle;\n",
       "    }\n",
       "\n",
       "    .dataframe tbody tr th {\n",
       "        vertical-align: top;\n",
       "    }\n",
       "\n",
       "    .dataframe thead th {\n",
       "        text-align: right;\n",
       "    }\n",
       "</style>\n",
       "<table border=\"1\" class=\"dataframe\">\n",
       "  <thead>\n",
       "    <tr style=\"text-align: right;\">\n",
       "      <th></th>\n",
       "      <th>UserID</th>\n",
       "      <th>Gender</th>\n",
       "      <th>Age</th>\n",
       "      <th>Occupation</th>\n",
       "      <th>Zip-code</th>\n",
       "    </tr>\n",
       "  </thead>\n",
       "  <tbody>\n",
       "    <tr>\n",
       "      <th>0</th>\n",
       "      <td>2</td>\n",
       "      <td>M</td>\n",
       "      <td>56</td>\n",
       "      <td>16</td>\n",
       "      <td>70072</td>\n",
       "    </tr>\n",
       "    <tr>\n",
       "      <th>1</th>\n",
       "      <td>3</td>\n",
       "      <td>M</td>\n",
       "      <td>25</td>\n",
       "      <td>15</td>\n",
       "      <td>55117</td>\n",
       "    </tr>\n",
       "    <tr>\n",
       "      <th>2</th>\n",
       "      <td>4</td>\n",
       "      <td>M</td>\n",
       "      <td>45</td>\n",
       "      <td>7</td>\n",
       "      <td>02460</td>\n",
       "    </tr>\n",
       "    <tr>\n",
       "      <th>3</th>\n",
       "      <td>5</td>\n",
       "      <td>M</td>\n",
       "      <td>25</td>\n",
       "      <td>20</td>\n",
       "      <td>55455</td>\n",
       "    </tr>\n",
       "    <tr>\n",
       "      <th>4</th>\n",
       "      <td>6</td>\n",
       "      <td>F</td>\n",
       "      <td>50</td>\n",
       "      <td>9</td>\n",
       "      <td>55117</td>\n",
       "    </tr>\n",
       "  </tbody>\n",
       "</table>\n",
       "</div>"
      ],
      "text/plain": [
       "   UserID Gender  Age  Occupation Zip-code\n",
       "0       2      M   56          16    70072\n",
       "1       3      M   25          15    55117\n",
       "2       4      M   45           7    02460\n",
       "3       5      M   25          20    55455\n",
       "4       6      F   50           9    55117"
      ]
     },
     "execution_count": 61,
     "metadata": {},
     "output_type": "execute_result"
    }
   ],
   "source": [
    "user.dropna(inplace=True)\n",
    "user.head()"
   ]
  },
  {
   "cell_type": "code",
   "execution_count": 62,
   "id": "6a4f0e57",
   "metadata": {},
   "outputs": [
    {
     "data": {
      "text/html": [
       "<div>\n",
       "<style scoped>\n",
       "    .dataframe tbody tr th:only-of-type {\n",
       "        vertical-align: middle;\n",
       "    }\n",
       "\n",
       "    .dataframe tbody tr th {\n",
       "        vertical-align: top;\n",
       "    }\n",
       "\n",
       "    .dataframe thead th {\n",
       "        text-align: right;\n",
       "    }\n",
       "</style>\n",
       "<table border=\"1\" class=\"dataframe\">\n",
       "  <thead>\n",
       "    <tr style=\"text-align: right;\">\n",
       "      <th></th>\n",
       "      <th>MovieIDs</th>\n",
       "      <th>MovieName</th>\n",
       "      <th>Category</th>\n",
       "      <th>ID</th>\n",
       "      <th>MovieID</th>\n",
       "      <th>Ratings</th>\n",
       "      <th>TimeStamp</th>\n",
       "      <th>UserID</th>\n",
       "      <th>Gender</th>\n",
       "      <th>Age</th>\n",
       "      <th>Occupation</th>\n",
       "      <th>Zip-code</th>\n",
       "    </tr>\n",
       "  </thead>\n",
       "  <tbody>\n",
       "    <tr>\n",
       "      <th>0</th>\n",
       "      <td>2.0</td>\n",
       "      <td>Jumanji (1995)</td>\n",
       "      <td>Adventure|Children's|Fantasy</td>\n",
       "      <td>1</td>\n",
       "      <td>661</td>\n",
       "      <td>3</td>\n",
       "      <td>978302109</td>\n",
       "      <td>2.0</td>\n",
       "      <td>M</td>\n",
       "      <td>56.0</td>\n",
       "      <td>16.0</td>\n",
       "      <td>70072</td>\n",
       "    </tr>\n",
       "    <tr>\n",
       "      <th>1</th>\n",
       "      <td>3.0</td>\n",
       "      <td>Grumpier Old Men (1995)</td>\n",
       "      <td>Comedy|Romance</td>\n",
       "      <td>1</td>\n",
       "      <td>914</td>\n",
       "      <td>3</td>\n",
       "      <td>978301968</td>\n",
       "      <td>3.0</td>\n",
       "      <td>M</td>\n",
       "      <td>25.0</td>\n",
       "      <td>15.0</td>\n",
       "      <td>55117</td>\n",
       "    </tr>\n",
       "    <tr>\n",
       "      <th>2</th>\n",
       "      <td>4.0</td>\n",
       "      <td>Waiting to Exhale (1995)</td>\n",
       "      <td>Comedy|Drama</td>\n",
       "      <td>1</td>\n",
       "      <td>3408</td>\n",
       "      <td>4</td>\n",
       "      <td>978300275</td>\n",
       "      <td>4.0</td>\n",
       "      <td>M</td>\n",
       "      <td>45.0</td>\n",
       "      <td>7.0</td>\n",
       "      <td>02460</td>\n",
       "    </tr>\n",
       "    <tr>\n",
       "      <th>3</th>\n",
       "      <td>5.0</td>\n",
       "      <td>Father of the Bride Part II (1995)</td>\n",
       "      <td>Comedy</td>\n",
       "      <td>1</td>\n",
       "      <td>2355</td>\n",
       "      <td>5</td>\n",
       "      <td>978824291</td>\n",
       "      <td>5.0</td>\n",
       "      <td>M</td>\n",
       "      <td>25.0</td>\n",
       "      <td>20.0</td>\n",
       "      <td>55455</td>\n",
       "    </tr>\n",
       "    <tr>\n",
       "      <th>4</th>\n",
       "      <td>6.0</td>\n",
       "      <td>Heat (1995)</td>\n",
       "      <td>Action|Crime|Thriller</td>\n",
       "      <td>1</td>\n",
       "      <td>1197</td>\n",
       "      <td>3</td>\n",
       "      <td>978302268</td>\n",
       "      <td>6.0</td>\n",
       "      <td>F</td>\n",
       "      <td>50.0</td>\n",
       "      <td>9.0</td>\n",
       "      <td>55117</td>\n",
       "    </tr>\n",
       "  </tbody>\n",
       "</table>\n",
       "</div>"
      ],
      "text/plain": [
       "   MovieIDs                           MovieName                      Category  \\\n",
       "0       2.0                      Jumanji (1995)  Adventure|Children's|Fantasy   \n",
       "1       3.0             Grumpier Old Men (1995)                Comedy|Romance   \n",
       "2       4.0            Waiting to Exhale (1995)                  Comedy|Drama   \n",
       "3       5.0  Father of the Bride Part II (1995)                        Comedy   \n",
       "4       6.0                         Heat (1995)         Action|Crime|Thriller   \n",
       "\n",
       "   ID  MovieID  Ratings  TimeStamp  UserID Gender   Age  Occupation Zip-code  \n",
       "0   1      661        3  978302109     2.0      M  56.0        16.0    70072  \n",
       "1   1      914        3  978301968     3.0      M  25.0        15.0    55117  \n",
       "2   1     3408        4  978300275     4.0      M  45.0         7.0    02460  \n",
       "3   1     2355        5  978824291     5.0      M  25.0        20.0    55455  \n",
       "4   1     1197        3  978302268     6.0      F  50.0         9.0    55117  "
      ]
     },
     "execution_count": 62,
     "metadata": {},
     "output_type": "execute_result"
    }
   ],
   "source": [
    "df = pd.concat([movies, ratings, user], axis=1)\n",
    "df.head()"
   ]
  },
  {
   "cell_type": "markdown",
   "id": "c32236ef",
   "metadata": {},
   "source": [
    "# 1. Perform EDA for user dataset"
   ]
  },
  {
   "cell_type": "code",
   "execution_count": 64,
   "id": "5dbbaa53",
   "metadata": {},
   "outputs": [
    {
     "data": {
      "image/png": "[encoded data removed]",
      "text/plain": [
       "<Figure size 1000x1000 with 1 Axes>"
      ]
     },
     "metadata": {},
     "output_type": "display_data"
    }
   ],
   "source": [
    "# User age distribution\n",
    "df['Age'].value_counts().plot(kind='barh',alpha=0.7,figsize=(10,10))\n",
    "plt.show()"
   ]
  },
  {
   "cell_type": "code",
   "execution_count": 65,
   "id": "242e5859",
   "metadata": {},
   "outputs": [
    {
     "data": {
      "text/plain": [
       "Text(0.5, 0, 'Age')"
      ]
     },
     "execution_count": 65,
     "metadata": {},
     "output_type": "execute_result"
    },
    {
     "data": {
      "image/png": "[encoded data removed]",
      "text/plain": [
       "<Figure size 640x480 with 1 Axes>"
      ]
     },
     "metadata": {},
     "output_type": "display_data"
    }
   ],
   "source": [
    "df.Age.plot.hist(bins=25)\n",
    "plt.title(\"Distribution of users' ages\")\n",
    "plt.ylabel('count of users')\n",
    "plt.xlabel('Age')"
   ]
  },
  {
   "cell_type": "code",
   "execution_count": 66,
   "id": "51f213bf",
   "metadata": {},
   "outputs": [
    {
     "data": {
      "text/html": [
       "<div>\n",
       "<style scoped>\n",
       "    .dataframe tbody tr th:only-of-type {\n",
       "        vertical-align: middle;\n",
       "    }\n",
       "\n",
       "    .dataframe tbody tr th {\n",
       "        vertical-align: top;\n",
       "    }\n",
       "\n",
       "    .dataframe thead th {\n",
       "        text-align: right;\n",
       "    }\n",
       "</style>\n",
       "<table border=\"1\" class=\"dataframe\">\n",
       "  <thead>\n",
       "    <tr style=\"text-align: right;\">\n",
       "      <th></th>\n",
       "      <th>Age</th>\n",
       "      <th>age_group</th>\n",
       "    </tr>\n",
       "  </thead>\n",
       "  <tbody>\n",
       "    <tr>\n",
       "      <th>0</th>\n",
       "      <td>56.0</td>\n",
       "      <td>50-59</td>\n",
       "    </tr>\n",
       "    <tr>\n",
       "      <th>1</th>\n",
       "      <td>25.0</td>\n",
       "      <td>20-29</td>\n",
       "    </tr>\n",
       "    <tr>\n",
       "      <th>2</th>\n",
       "      <td>45.0</td>\n",
       "      <td>40-49</td>\n",
       "    </tr>\n",
       "    <tr>\n",
       "      <th>4</th>\n",
       "      <td>50.0</td>\n",
       "      <td>50-59</td>\n",
       "    </tr>\n",
       "    <tr>\n",
       "      <th>5</th>\n",
       "      <td>35.0</td>\n",
       "      <td>30-39</td>\n",
       "    </tr>\n",
       "    <tr>\n",
       "      <th>16</th>\n",
       "      <td>18.0</td>\n",
       "      <td>10-19</td>\n",
       "    </tr>\n",
       "    <tr>\n",
       "      <th>17</th>\n",
       "      <td>1.0</td>\n",
       "      <td>0-9</td>\n",
       "    </tr>\n",
       "    <tr>\n",
       "      <th>6039</th>\n",
       "      <td>NaN</td>\n",
       "      <td>NaN</td>\n",
       "    </tr>\n",
       "  </tbody>\n",
       "</table>\n",
       "</div>"
      ],
      "text/plain": [
       "       Age age_group\n",
       "0     56.0     50-59\n",
       "1     25.0     20-29\n",
       "2     45.0     40-49\n",
       "4     50.0     50-59\n",
       "5     35.0     30-39\n",
       "16    18.0     10-19\n",
       "17     1.0       0-9\n",
       "6039   NaN       NaN"
      ]
     },
     "execution_count": 66,
     "metadata": {},
     "output_type": "execute_result"
    }
   ],
   "source": [
    "labels = ['0-9', '10-19', '20-29', '30-39', '40-49', '50-59', '60-69', '70-79']\n",
    "df['age_group'] = pd.cut(df.Age, range(0, 81, 10), right=False, labels=labels)\n",
    "df[['Age', 'age_group']].drop_duplicates()[:10]"
   ]
  },
  {
   "cell_type": "markdown",
   "id": "3fbb2d4e",
   "metadata": {},
   "source": [
    "# Overall ratings by users"
   ]
  },
  {
   "cell_type": "code",
   "execution_count": 67,
   "id": "268df0cb",
   "metadata": {},
   "outputs": [
    {
     "data": {
      "image/png": "[encoded data removed]",
      "text/plain": [
       "<Figure size 1000x1000 with 1 Axes>"
      ]
     },
     "metadata": {},
     "output_type": "display_data"
    }
   ],
   "source": [
    "df['Ratings'].value_counts().plot(kind='bar',alpha=0.7,figsize=(10,10))\n",
    "plt.show()"
   ]
  },
  {
   "cell_type": "code",
   "execution_count": 68,
   "id": "5d8ed983",
   "metadata": {},
   "outputs": [],
   "source": [
    "groupedby_movieName = df.groupby('MovieName')\n",
    "groupedby_rating = df.groupby('Ratings')\n",
    "groupedby_uid = df.groupby('UserID')"
   ]
  },
  {
   "cell_type": "code",
   "execution_count": 69,
   "id": "6faba590",
   "metadata": {},
   "outputs": [
    {
     "name": "stdout",
     "output_type": "stream",
     "text": [
      "MovieName\n",
      "$1,000,000 Duck (1971)                   1\n",
      "Only Angels Have Wings (1939)            1\n",
      "Only You (1994)                          1\n",
      "Open Season (1996)                       1\n",
      "Open Your Eyes (Abre los ojos) (1997)    1\n",
      "                                        ..\n",
      "Toy Story 2 (1999)                       1\n",
      "Toys (1992)                              1\n",
      "Total Eclipse (1995)                     1\n",
      "Trading Places (1983)                    1\n",
      "Tom & Viv (1994)                         1\n",
      "Length: 1000, dtype: int64\n"
     ]
    }
   ],
   "source": [
    "movies = df.groupby('MovieName').size().sort_values(ascending=True)[:1000]\n",
    "print(movies)"
   ]
  },
  {
   "cell_type": "code",
   "execution_count": 70,
   "id": "4a30ce39",
   "metadata": {},
   "outputs": [
    {
     "data": {
      "text/plain": [
       "(1, 13)"
      ]
     },
     "execution_count": 70,
     "metadata": {},
     "output_type": "execute_result"
    }
   ],
   "source": [
    "ToyStory_data = groupedby_movieName.get_group('Toy Story 2 (1999)')\n",
    "ToyStory_data.shape"
   ]
  },
  {
   "cell_type": "code",
   "execution_count": 71,
   "id": "59f5b586",
   "metadata": {},
   "outputs": [
    {
     "data": {
      "image/png": "[encoded data removed]",
      "text/plain": [
       "<Figure size 1000x1000 with 1 Axes>"
      ]
     },
     "metadata": {},
     "output_type": "display_data"
    }
   ],
   "source": [
    "#Find and visualize the user rating of the movie “Toy Story”\n",
    "\n",
    "plt.figure(figsize=(10,10))\n",
    "plt.scatter(ToyStory_data['MovieName'],ToyStory_data['Ratings'])\n",
    "plt.title('Plot showing  the user rating of the movie “Toy Story”')\n",
    "plt.show()"
   ]
  },
  {
   "cell_type": "code",
   "execution_count": 72,
   "id": "3477b8fb",
   "metadata": {},
   "outputs": [
    {
     "data": {
      "text/html": [
       "<div>\n",
       "<style scoped>\n",
       "    .dataframe tbody tr th:only-of-type {\n",
       "        vertical-align: middle;\n",
       "    }\n",
       "\n",
       "    .dataframe tbody tr th {\n",
       "        vertical-align: top;\n",
       "    }\n",
       "\n",
       "    .dataframe thead th {\n",
       "        text-align: right;\n",
       "    }\n",
       "</style>\n",
       "<table border=\"1\" class=\"dataframe\">\n",
       "  <thead>\n",
       "    <tr style=\"text-align: right;\">\n",
       "      <th></th>\n",
       "      <th>MovieName</th>\n",
       "      <th>age_group</th>\n",
       "    </tr>\n",
       "  </thead>\n",
       "  <tbody>\n",
       "    <tr>\n",
       "      <th>3044</th>\n",
       "      <td>Toy Story 2 (1999)</td>\n",
       "      <td>0-9</td>\n",
       "    </tr>\n",
       "  </tbody>\n",
       "</table>\n",
       "</div>"
      ],
      "text/plain": [
       "               MovieName age_group\n",
       "3044  Toy Story 2 (1999)       0-9"
      ]
     },
     "execution_count": 72,
     "metadata": {},
     "output_type": "execute_result"
    }
   ],
   "source": [
    "#Find and visualize the viewership of the movie “Toy Story” by age group\n",
    "ToyStory_data[['MovieName','age_group']]"
   ]
  },
  {
   "cell_type": "code",
   "execution_count": 73,
   "id": "0599ae5f",
   "metadata": {},
   "outputs": [
    {
     "data": {
      "image/png": "[encoded data removed]",
      "text/plain": [
       "<Figure size 700x700 with 1 Axes>"
      ]
     },
     "metadata": {},
     "output_type": "display_data"
    }
   ],
   "source": [
    "# top 25 movies by viewership rating\n",
    "top_25 = df[25:]\n",
    "top_25['Ratings'].value_counts().plot(kind='barh',alpha=0.6,figsize=(7,7))\n",
    "plt.show()"
   ]
  },
  {
   "cell_type": "code",
   "execution_count": 74,
   "id": "9d0d0171",
   "metadata": {},
   "outputs": [
    {
     "data": {
      "text/html": [
       "<div>\n",
       "<style scoped>\n",
       "    .dataframe tbody tr th:only-of-type {\n",
       "        vertical-align: middle;\n",
       "    }\n",
       "\n",
       "    .dataframe tbody tr th {\n",
       "        vertical-align: top;\n",
       "    }\n",
       "\n",
       "    .dataframe thead th {\n",
       "        text-align: right;\n",
       "    }\n",
       "</style>\n",
       "<table border=\"1\" class=\"dataframe\">\n",
       "  <thead>\n",
       "    <tr style=\"text-align: right;\">\n",
       "      <th></th>\n",
       "      <th>UserID</th>\n",
       "      <th>Ratings</th>\n",
       "    </tr>\n",
       "  </thead>\n",
       "  <tbody>\n",
       "    <tr>\n",
       "      <th>2694</th>\n",
       "      <td>2696.0</td>\n",
       "      <td>3</td>\n",
       "    </tr>\n",
       "  </tbody>\n",
       "</table>\n",
       "</div>"
      ],
      "text/plain": [
       "      UserID  Ratings\n",
       "2694  2696.0        3"
      ]
     },
     "execution_count": 74,
     "metadata": {},
     "output_type": "execute_result"
    }
   ],
   "source": [
    "#Visualize the rating data by user of user id = 2696\n",
    "userid_2696 = groupedby_uid.get_group(2696)\n",
    "userid_2696[['UserID','Ratings']]"
   ]
  },
  {
   "cell_type": "markdown",
   "id": "305fbead",
   "metadata": {},
   "source": [
    "# Perform machine learning on first 500 extracted records"
   ]
  },
  {
   "cell_type": "code",
   "execution_count": 75,
   "id": "2b51cc51",
   "metadata": {},
   "outputs": [
    {
     "name": "stderr",
     "output_type": "stream",
     "text": [
      "C:\\Users\\10\\AppData\\Local\\Temp\\ipykernel_916\\2780351682.py:3: SettingWithCopyWarning:\n",
      "\n",
      "\n",
      "A value is trying to be set on a copy of a slice from a DataFrame\n",
      "\n",
      "See the caveats in the documentation: https://pandas.pydata.org/pandas-docs/stable/user_guide/indexing.html#returning-a-view-versus-a-copy\n",
      "\n"
     ]
    }
   ],
   "source": [
    "#First 500 extracted records\n",
    "first_500 = df[500:]\n",
    "first_500.dropna(inplace=True)"
   ]
  },
  {
   "cell_type": "code",
   "execution_count": 76,
   "id": "f6f3bf97",
   "metadata": {},
   "outputs": [],
   "source": [
    "#:movie id,age,occupation\n",
    "\n",
    "features = first_500[['MovieID','Age','Occupation']].values"
   ]
  },
  {
   "cell_type": "code",
   "execution_count": 77,
   "id": "e8c47503",
   "metadata": {},
   "outputs": [],
   "source": [
    "#rating as label\n",
    "\n",
    "labels = first_500[['Ratings']].values"
   ]
  },
  {
   "cell_type": "code",
   "execution_count": 78,
   "id": "20304c19",
   "metadata": {},
   "outputs": [],
   "source": [
    "#Build train and test data set\n",
    "\n",
    "train, test, train_labels, test_labels = train_test_split(features,labels,test_size=0.33,random_state=42)"
   ]
  },
  {
   "cell_type": "markdown",
   "id": "33a693ac",
   "metadata": {},
   "source": [
    "# Perform the following:"
   ]
  },
  {
   "cell_type": "code",
   "execution_count": 79,
   "id": "ce5d0861",
   "metadata": {},
   "outputs": [
    {
     "data": {
      "text/plain": [
       "Text(0.5, 0, 'Ratings')"
      ]
     },
     "execution_count": 79,
     "metadata": {},
     "output_type": "execute_result"
    },
    {
     "data": {
      "image/png": "[encoded data removed]",
      "text/plain": [
       "<Figure size 640x480 with 1 Axes>"
      ]
     },
     "metadata": {},
     "output_type": "display_data"
    }
   ],
   "source": [
    "#Make a histogram for movie\n",
    "\n",
    "df.Age.plot.hist(bins=25)\n",
    "plt.title(\"Movie & Rating\")\n",
    "plt.ylabel('MovieID')\n",
    "plt.xlabel('Ratings')"
   ]
  },
  {
   "cell_type": "code",
   "execution_count": 80,
   "id": "c9943c08",
   "metadata": {},
   "outputs": [
    {
     "data": {
      "text/plain": [
       "Text(0.5, 0, 'Ratings')"
      ]
     },
     "execution_count": 80,
     "metadata": {},
     "output_type": "execute_result"
    },
    {
     "data": {
      "image/png": "[encoded data removed]",
      "text/plain": [
       "<Figure size 640x480 with 1 Axes>"
      ]
     },
     "metadata": {},
     "output_type": "display_data"
    }
   ],
   "source": [
    "# Make a histogram for age\n",
    "\n",
    "df.Age.plot.hist(bins=25)\n",
    "plt.title(\"Age & Rating\")\n",
    "plt.ylabel('Age')\n",
    "plt.xlabel('Ratings')"
   ]
  },
  {
   "cell_type": "code",
   "execution_count": 81,
   "id": "ae3e4523",
   "metadata": {},
   "outputs": [
    {
     "data": {
      "text/plain": [
       "Text(0.5, 0, 'Ratings')"
      ]
     },
     "execution_count": 81,
     "metadata": {},
     "output_type": "execute_result"
    },
    {
     "data": {
      "image/png": "[encoded data removed]",
      "text/plain": [
       "<Figure size 640x480 with 1 Axes>"
      ]
     },
     "metadata": {},
     "output_type": "display_data"
    }
   ],
   "source": [
    "#Make a histogram for occupation\n",
    "\n",
    "df.Age.plot.hist(bins=25)\n",
    "plt.title(\"Occupation & Rating\")\n",
    "plt.ylabel('Occupation')\n",
    "plt.xlabel('Ratings')"
   ]
  },
  {
   "cell_type": "markdown",
   "id": "69095de6",
   "metadata": {},
   "source": [
    "# Logistic Regression"
   ]
  },
  {
   "cell_type": "code",
   "execution_count": 82,
   "id": "b6975e58",
   "metadata": {},
   "outputs": [
    {
     "name": "stderr",
     "output_type": "stream",
     "text": [
      "C:\\Users\\10\\anaconda3\\lib\\site-packages\\sklearn\\utils\\validation.py:1143: DataConversionWarning:\n",
      "\n",
      "A column-vector y was passed when a 1d array was expected. Please change the shape of y to (n_samples, ), for example using ravel().\n",
      "\n",
      "C:\\Users\\10\\anaconda3\\lib\\site-packages\\sklearn\\linear_model\\_logistic.py:458: ConvergenceWarning:\n",
      "\n",
      "lbfgs failed to converge (status=1):\n",
      "STOP: TOTAL NO. of ITERATIONS REACHED LIMIT.\n",
      "\n",
      "Increase the number of iterations (max_iter) or scale the data as shown in:\n",
      "    https://scikit-learn.org/stable/modules/preprocessing.html\n",
      "Please also refer to the documentation for alternative solver options:\n",
      "    https://scikit-learn.org/stable/modules/linear_model.html#logistic-regression\n",
      "\n"
     ]
    },
    {
     "data": {
      "text/plain": [
       "32.76"
      ]
     },
     "execution_count": 82,
     "metadata": {},
     "output_type": "execute_result"
    }
   ],
   "source": [
    "logreg = LogisticRegression()\n",
    "logreg.fit(train, train_labels)\n",
    "Y_pred = logreg.predict(test)\n",
    "acc_log = round(logreg.score(train, train_labels) * 100, 2)\n",
    "acc_log"
   ]
  },
  {
   "cell_type": "markdown",
   "id": "526fec4c",
   "metadata": {},
   "source": [
    "# Support Vector Machines"
   ]
  },
  {
   "cell_type": "code",
   "execution_count": 83,
   "id": "63cfa9ee",
   "metadata": {},
   "outputs": [
    {
     "name": "stderr",
     "output_type": "stream",
     "text": [
      "C:\\Users\\10\\anaconda3\\lib\\site-packages\\sklearn\\utils\\validation.py:1143: DataConversionWarning:\n",
      "\n",
      "A column-vector y was passed when a 1d array was expected. Please change the shape of y to (n_samples, ), for example using ravel().\n",
      "\n"
     ]
    },
    {
     "data": {
      "text/plain": [
       "32.94"
      ]
     },
     "execution_count": 83,
     "metadata": {},
     "output_type": "execute_result"
    }
   ],
   "source": [
    "svc = SVC()\n",
    "svc.fit(train, train_labels)\n",
    "Y_pred = svc.predict(test)\n",
    "acc_svc = round(svc.score(train, train_labels) * 100, 2)\n",
    "acc_svc"
   ]
  },
  {
   "cell_type": "markdown",
   "id": "696cbf05",
   "metadata": {},
   "source": [
    "# K Nearest Neighbors Classifier"
   ]
  },
  {
   "cell_type": "code",
   "execution_count": 84,
   "id": "3716d511",
   "metadata": {},
   "outputs": [
    {
     "name": "stderr",
     "output_type": "stream",
     "text": [
      "C:\\Users\\10\\anaconda3\\lib\\site-packages\\sklearn\\neighbors\\_classification.py:215: DataConversionWarning:\n",
      "\n",
      "A column-vector y was passed when a 1d array was expected. Please change the shape of y to (n_samples,), for example using ravel().\n",
      "\n"
     ]
    },
    {
     "data": {
      "text/plain": [
       "57.31"
      ]
     },
     "execution_count": 84,
     "metadata": {},
     "output_type": "execute_result"
    }
   ],
   "source": [
    "knn = KNeighborsClassifier(n_neighbors = 3)\n",
    "knn.fit(train, train_labels)\n",
    "Y_pred = knn.predict(test)\n",
    "acc_knn = round(knn.score(train, train_labels) * 100, 2)\n",
    "acc_knn"
   ]
  },
  {
   "cell_type": "markdown",
   "id": "934a070b",
   "metadata": {},
   "source": [
    "# Gaussian Naive Bayes"
   ]
  },
  {
   "cell_type": "code",
   "execution_count": 85,
   "id": "e293006c",
   "metadata": {},
   "outputs": [
    {
     "name": "stderr",
     "output_type": "stream",
     "text": [
      "C:\\Users\\10\\anaconda3\\lib\\site-packages\\sklearn\\utils\\validation.py:1143: DataConversionWarning:\n",
      "\n",
      "A column-vector y was passed when a 1d array was expected. Please change the shape of y to (n_samples, ), for example using ravel().\n",
      "\n"
     ]
    },
    {
     "data": {
      "text/plain": [
       "32.23"
      ]
     },
     "execution_count": 85,
     "metadata": {},
     "output_type": "execute_result"
    }
   ],
   "source": [
    "gaussian = GaussianNB()\n",
    "gaussian.fit(train, train_labels)\n",
    "Y_pred = gaussian.predict(test)\n",
    "acc_gaussian = round(gaussian.score(train, train_labels) * 100, 2)\n",
    "acc_gaussian"
   ]
  },
  {
   "cell_type": "markdown",
   "id": "acdf632a",
   "metadata": {},
   "source": [
    "# Perceptron"
   ]
  },
  {
   "cell_type": "code",
   "execution_count": 86,
   "id": "2314a642",
   "metadata": {},
   "outputs": [
    {
     "name": "stderr",
     "output_type": "stream",
     "text": [
      "C:\\Users\\10\\anaconda3\\lib\\site-packages\\sklearn\\utils\\validation.py:1143: DataConversionWarning:\n",
      "\n",
      "A column-vector y was passed when a 1d array was expected. Please change the shape of y to (n_samples, ), for example using ravel().\n",
      "\n"
     ]
    },
    {
     "data": {
      "text/plain": [
       "28.61"
      ]
     },
     "execution_count": 86,
     "metadata": {},
     "output_type": "execute_result"
    }
   ],
   "source": [
    "perceptron = Perceptron()\n",
    "perceptron.fit(train, train_labels)\n",
    "Y_pred = perceptron.predict(test)\n",
    "acc_perceptron = round(perceptron.score(train, train_labels) * 100, 2)\n",
    "acc_perceptron"
   ]
  },
  {
   "cell_type": "markdown",
   "id": "0a4cee4b",
   "metadata": {},
   "source": [
    "# Linear SVC"
   ]
  },
  {
   "cell_type": "code",
   "execution_count": 87,
   "id": "0101b77b",
   "metadata": {},
   "outputs": [
    {
     "name": "stderr",
     "output_type": "stream",
     "text": [
      "C:\\Users\\10\\anaconda3\\lib\\site-packages\\sklearn\\utils\\validation.py:1143: DataConversionWarning:\n",
      "\n",
      "A column-vector y was passed when a 1d array was expected. Please change the shape of y to (n_samples, ), for example using ravel().\n",
      "\n",
      "C:\\Users\\10\\anaconda3\\lib\\site-packages\\sklearn\\svm\\_base.py:1244: ConvergenceWarning:\n",
      "\n",
      "Liblinear failed to converge, increase the number of iterations.\n",
      "\n"
     ]
    },
    {
     "data": {
      "text/plain": [
       "28.79"
      ]
     },
     "execution_count": 87,
     "metadata": {},
     "output_type": "execute_result"
    }
   ],
   "source": [
    "linear_svc = LinearSVC()\n",
    "linear_svc.fit(train, train_labels)\n",
    "Y_pred = linear_svc.predict(test)\n",
    "acc_linear_svc = round(linear_svc.score(train, train_labels) * 100, 2)\n",
    "acc_linear_svc"
   ]
  },
  {
   "cell_type": "markdown",
   "id": "593cdf19",
   "metadata": {},
   "source": [
    "# Stochastic Gradient Descent (SGC)"
   ]
  },
  {
   "cell_type": "code",
   "execution_count": 88,
   "id": "f65fe100",
   "metadata": {},
   "outputs": [
    {
     "name": "stderr",
     "output_type": "stream",
     "text": [
      "C:\\Users\\10\\anaconda3\\lib\\site-packages\\sklearn\\utils\\validation.py:1143: DataConversionWarning:\n",
      "\n",
      "A column-vector y was passed when a 1d array was expected. Please change the shape of y to (n_samples, ), for example using ravel().\n",
      "\n"
     ]
    },
    {
     "data": {
      "text/plain": [
       "28.48"
      ]
     },
     "execution_count": 88,
     "metadata": {},
     "output_type": "execute_result"
    }
   ],
   "source": [
    "sgd = SGDClassifier()\n",
    "sgd.fit(train, train_labels)\n",
    "Y_pred = sgd.predict(test)\n",
    "acc_sgd = round(sgd.score(train, train_labels) * 100, 2)\n",
    "acc_sgd"
   ]
  },
  {
   "cell_type": "markdown",
   "id": "29385db8",
   "metadata": {},
   "source": [
    "# Decision Tree"
   ]
  },
  {
   "cell_type": "code",
   "execution_count": 89,
   "id": "79e05904",
   "metadata": {},
   "outputs": [
    {
     "data": {
      "text/plain": [
       "98.54"
      ]
     },
     "execution_count": 89,
     "metadata": {},
     "output_type": "execute_result"
    }
   ],
   "source": [
    "decision_tree = DecisionTreeClassifier()\n",
    "decision_tree.fit(train, train_labels)\n",
    "Y_pred = decision_tree.predict(test)\n",
    "acc_decision_tree = round(decision_tree.score(train, train_labels) * 100, 2)\n",
    "acc_decision_tree"
   ]
  },
  {
   "cell_type": "markdown",
   "id": "fb2b5fe5",
   "metadata": {},
   "source": [
    "# Random Forest"
   ]
  },
  {
   "cell_type": "code",
   "execution_count": 90,
   "id": "0972df25",
   "metadata": {},
   "outputs": [
    {
     "name": "stderr",
     "output_type": "stream",
     "text": [
      "C:\\Users\\10\\AppData\\Local\\Temp\\ipykernel_916\\3903029764.py:2: DataConversionWarning:\n",
      "\n",
      "A column-vector y was passed when a 1d array was expected. Please change the shape of y to (n_samples,), for example using ravel().\n",
      "\n"
     ]
    },
    {
     "data": {
      "text/plain": [
       "98.54"
      ]
     },
     "execution_count": 90,
     "metadata": {},
     "output_type": "execute_result"
    }
   ],
   "source": [
    "random_forest = RandomForestClassifier(n_estimators=100)\n",
    "random_forest.fit(train, train_labels)\n",
    "Y_pred = random_forest.predict(test)\n",
    "random_forest.score(train, train_labels)\n",
    "acc_random_forest = round(random_forest.score(train, train_labels) * 100, 2)\n",
    "acc_random_forest"
   ]
  },
  {
   "cell_type": "markdown",
   "id": "a0b3ba34",
   "metadata": {},
   "source": [
    "# Print all score of all models"
   ]
  },
  {
   "cell_type": "code",
   "execution_count": 91,
   "id": "08613a9a",
   "metadata": {},
   "outputs": [
    {
     "data": {
      "text/html": [
       "<div>\n",
       "<style scoped>\n",
       "    .dataframe tbody tr th:only-of-type {\n",
       "        vertical-align: middle;\n",
       "    }\n",
       "\n",
       "    .dataframe tbody tr th {\n",
       "        vertical-align: top;\n",
       "    }\n",
       "\n",
       "    .dataframe thead th {\n",
       "        text-align: right;\n",
       "    }\n",
       "</style>\n",
       "<table border=\"1\" class=\"dataframe\">\n",
       "  <thead>\n",
       "    <tr style=\"text-align: right;\">\n",
       "      <th></th>\n",
       "      <th>Model</th>\n",
       "      <th>Score</th>\n",
       "    </tr>\n",
       "  </thead>\n",
       "  <tbody>\n",
       "    <tr>\n",
       "      <th>3</th>\n",
       "      <td>Random Forest</td>\n",
       "      <td>98.54</td>\n",
       "    </tr>\n",
       "    <tr>\n",
       "      <th>8</th>\n",
       "      <td>Decision Tree</td>\n",
       "      <td>98.54</td>\n",
       "    </tr>\n",
       "    <tr>\n",
       "      <th>1</th>\n",
       "      <td>KNN</td>\n",
       "      <td>57.31</td>\n",
       "    </tr>\n",
       "    <tr>\n",
       "      <th>0</th>\n",
       "      <td>Support Vector Machines</td>\n",
       "      <td>32.94</td>\n",
       "    </tr>\n",
       "    <tr>\n",
       "      <th>2</th>\n",
       "      <td>Logistic Regression</td>\n",
       "      <td>32.76</td>\n",
       "    </tr>\n",
       "    <tr>\n",
       "      <th>4</th>\n",
       "      <td>Naive Bayes</td>\n",
       "      <td>32.23</td>\n",
       "    </tr>\n",
       "    <tr>\n",
       "      <th>7</th>\n",
       "      <td>Linear SVC</td>\n",
       "      <td>28.79</td>\n",
       "    </tr>\n",
       "    <tr>\n",
       "      <th>5</th>\n",
       "      <td>Perceptron</td>\n",
       "      <td>28.61</td>\n",
       "    </tr>\n",
       "    <tr>\n",
       "      <th>6</th>\n",
       "      <td>Stochastic Gradient Decent</td>\n",
       "      <td>28.48</td>\n",
       "    </tr>\n",
       "  </tbody>\n",
       "</table>\n",
       "</div>"
      ],
      "text/plain": [
       "                        Model  Score\n",
       "3               Random Forest  98.54\n",
       "8               Decision Tree  98.54\n",
       "1                         KNN  57.31\n",
       "0     Support Vector Machines  32.94\n",
       "2         Logistic Regression  32.76\n",
       "4                 Naive Bayes  32.23\n",
       "7                  Linear SVC  28.79\n",
       "5                  Perceptron  28.61\n",
       "6  Stochastic Gradient Decent  28.48"
      ]
     },
     "execution_count": 91,
     "metadata": {},
     "output_type": "execute_result"
    }
   ],
   "source": [
    "8.5\n",
    "models = pd.DataFrame({\n",
    "    'Model': ['Support Vector Machines', 'KNN', 'Logistic Regression', \n",
    "              'Random Forest', 'Naive Bayes', 'Perceptron', \n",
    "              'Stochastic Gradient Decent', 'Linear SVC', \n",
    "              'Decision Tree'],\n",
    "    'Score': [acc_svc, acc_knn, acc_log, \n",
    "              acc_random_forest, acc_gaussian, acc_perceptron, \n",
    "              acc_sgd, acc_linear_svc, acc_decision_tree]})\n",
    "models.sort_values(by='Score', ascending=False)"
   ]
  },
  {
   "cell_type": "code",
   "execution_count": null,
   "id": "2daf60a5",
   "metadata": {},
   "outputs": [],
   "source": []
  }
 ],
 "metadata": {
  "kernelspec": {
   "display_name": "Python 3 (ipykernel)",
   "language": "python",
   "name": "python3"
  },
  "language_info": {
   "codemirror_mode": {
    "name": "ipython",
    "version": 3
   },
   "file_extension": ".py",
   "mimetype": "text/x-python",
   "name": "python",
   "nbconvert_exporter": "python",
   "pygments_lexer": "ipython3",
   "version": "3.10.9"
  }
 },
 "nbformat": 4,
 "nbformat_minor": 5
}
